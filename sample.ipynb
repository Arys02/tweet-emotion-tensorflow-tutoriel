{
 "cells": [
  {
   "cell_type": "code",
   "execution_count": 2,
   "id": "initial_id",
   "metadata": {
    "collapsed": true,
    "ExecuteTime": {
     "end_time": "2024-03-21T09:29:15.820257400Z",
     "start_time": "2024-03-21T09:29:15.650988200Z"
    }
   },
   "outputs": [
    {
     "name": "stdout",
     "output_type": "stream",
     "text": [
      "Using TensorFlow version 2.15.0\n"
     ]
    }
   ],
   "source": [
    "%matplotlib inline\n",
    "\n",
    "import tensorflow as tf\n",
    "import numpy as np\n",
    "import matplotlib.pyplot as plt\n",
    "import nlp\n",
    "import random\n",
    "\n",
    "\n",
    "def show_history(h):\n",
    "    epochs_trained = len(h.history['loss'])\n",
    "    plt.figure(figsize=(16, 6))\n",
    "\n",
    "    plt.subplot(1, 2, 1)\n",
    "    plt.plot(range(0, epochs_trained), h.history.get('accuracy'), label='Training')\n",
    "    plt.plot(range(0, epochs_trained), h.history.get('val_accuracy'), label='Validation')\n",
    "    plt.ylim([0., 1.])\n",
    "    plt.xlabel('Epochs')\n",
    "    plt.ylabel('Accuracy')\n",
    "    plt.legend()\n",
    "\n",
    "    plt.subplot(1, 2, 2)\n",
    "    plt.plot(range(0, epochs_trained), h.history.get('loss'), label='Training')\n",
    "    plt.plot(range(0, epochs_trained), h.history.get('val_loss'), label='Validation')\n",
    "    plt.xlabel('Epochs')\n",
    "    plt.ylabel('Loss')\n",
    "    plt.legend()\n",
    "    plt.show()\n",
    "\n",
    "\n",
    "def show_confusion_matrix(y_true, y_pred, classes):\n",
    "    from sklearn.metrics import confusion_matrix\n",
    "\n",
    "    cm = confusion_matrix(y_true, y_pred, normalize='true')\n",
    "\n",
    "    plt.figure(figsize=(8, 8))\n",
    "    sp = plt.subplot(1, 1, 1)\n",
    "    ctx = sp.matshow(cm)\n",
    "    plt.xticks(list(range(0, 6)), labels=classes)\n",
    "    plt.yticks(list(range(0, 6)), labels=classes)\n",
    "    plt.colorbar(ctx)\n",
    "    plt.show()\n",
    "\n",
    "\n",
    "print('Using TensorFlow version', tf.__version__)"
   ]
  },
  {
   "cell_type": "code",
   "outputs": [
    {
     "name": "stderr",
     "output_type": "stream",
     "text": [
      "/home/arys/miniconda3/envs/DEV_IA/lib/python3.10/site-packages/datasets/load.py:1461: FutureWarning: The repository for dair-ai/emotion contains custom code which must be executed to correctly load the dataset. You can inspect the repository content at https://hf.co/datasets/dair-ai/emotion\n",
      "You can avoid this message in future by passing the argument `trust_remote_code=True`.\n",
      "Passing `trust_remote_code=True` will be mandatory to load this dataset from the next major release of `datasets`.\n",
      "  warnings.warn(\n"
     ]
    },
    {
     "data": {
      "text/plain": "Downloading builder script:   0%|          | 0.00/3.97k [00:00<?, ?B/s]",
      "application/vnd.jupyter.widget-view+json": {
       "version_major": 2,
       "version_minor": 0,
       "model_id": "56374ce058d24514bf1a16b87fee9412"
      }
     },
     "metadata": {},
     "output_type": "display_data"
    },
    {
     "data": {
      "text/plain": "Downloading metadata:   0%|          | 0.00/3.28k [00:00<?, ?B/s]",
      "application/vnd.jupyter.widget-view+json": {
       "version_major": 2,
       "version_minor": 0,
       "model_id": "ad0bf20a92ff40c789cc5939f44e8e77"
      }
     },
     "metadata": {},
     "output_type": "display_data"
    },
    {
     "data": {
      "text/plain": "Downloading readme:   0%|          | 0.00/8.78k [00:00<?, ?B/s]",
      "application/vnd.jupyter.widget-view+json": {
       "version_major": 2,
       "version_minor": 0,
       "model_id": "2e17807b776b49be840c36c765a4efc9"
      }
     },
     "metadata": {},
     "output_type": "display_data"
    },
    {
     "data": {
      "text/plain": "Downloading data:   0%|          | 0.00/592k [00:00<?, ?B/s]",
      "application/vnd.jupyter.widget-view+json": {
       "version_major": 2,
       "version_minor": 0,
       "model_id": "fac10d53d9c244f7ae988d9cf598c528"
      }
     },
     "metadata": {},
     "output_type": "display_data"
    },
    {
     "data": {
      "text/plain": "Downloading data:   0%|          | 0.00/74.0k [00:00<?, ?B/s]",
      "application/vnd.jupyter.widget-view+json": {
       "version_major": 2,
       "version_minor": 0,
       "model_id": "59863be1f7d34c1fb037e3f3c0850ada"
      }
     },
     "metadata": {},
     "output_type": "display_data"
    },
    {
     "data": {
      "text/plain": "Downloading data:   0%|          | 0.00/74.9k [00:00<?, ?B/s]",
      "application/vnd.jupyter.widget-view+json": {
       "version_major": 2,
       "version_minor": 0,
       "model_id": "95017bcd7fd647c4893af2d25a398bee"
      }
     },
     "metadata": {},
     "output_type": "display_data"
    },
    {
     "data": {
      "text/plain": "Generating train split:   0%|          | 0/16000 [00:00<?, ? examples/s]",
      "application/vnd.jupyter.widget-view+json": {
       "version_major": 2,
       "version_minor": 0,
       "model_id": "49f5b21720364b0d9a1a51a4b018ac02"
      }
     },
     "metadata": {},
     "output_type": "display_data"
    },
    {
     "data": {
      "text/plain": "Generating validation split:   0%|          | 0/2000 [00:00<?, ? examples/s]",
      "application/vnd.jupyter.widget-view+json": {
       "version_major": 2,
       "version_minor": 0,
       "model_id": "cb448605bef4480ebdde99609fb07237"
      }
     },
     "metadata": {},
     "output_type": "display_data"
    },
    {
     "data": {
      "text/plain": "Generating test split:   0%|          | 0/2000 [00:00<?, ? examples/s]",
      "application/vnd.jupyter.widget-view+json": {
       "version_major": 2,
       "version_minor": 0,
       "model_id": "bef518f3aaa248aaa1c1f37307e8fffc"
      }
     },
     "metadata": {},
     "output_type": "display_data"
    }
   ],
   "source": [
    "from datasets import load_dataset\n",
    "\n",
    "dataset = load_dataset(\"dair-ai/emotion\")"
   ],
   "metadata": {
    "collapsed": false,
    "ExecuteTime": {
     "end_time": "2024-03-21T09:29:31.247946600Z",
     "start_time": "2024-03-21T09:29:26.920461Z"
    }
   },
   "id": "8c3e6860aae6eefd",
   "execution_count": 3
  },
  {
   "cell_type": "code",
   "outputs": [
    {
     "data": {
      "text/plain": "DatasetDict({\n    train: Dataset({\n        features: ['text', 'label'],\n        num_rows: 16000\n    })\n    validation: Dataset({\n        features: ['text', 'label'],\n        num_rows: 2000\n    })\n    test: Dataset({\n        features: ['text', 'label'],\n        num_rows: 2000\n    })\n})"
     },
     "execution_count": 4,
     "metadata": {},
     "output_type": "execute_result"
    }
   ],
   "source": [
    "dataset"
   ],
   "metadata": {
    "collapsed": false,
    "ExecuteTime": {
     "end_time": "2024-03-21T09:29:45.280820400Z",
     "start_time": "2024-03-21T09:29:45.172348500Z"
    }
   },
   "id": "dae6429d7a32e2b6",
   "execution_count": 4
  },
  {
   "cell_type": "code",
   "outputs": [],
   "source": [
    "train = dataset['train']\n",
    "val = dataset['validation']\n",
    "test = dataset['test']"
   ],
   "metadata": {
    "collapsed": false,
    "ExecuteTime": {
     "end_time": "2024-03-21T09:30:04.689493200Z",
     "start_time": "2024-03-21T09:30:04.652930Z"
    }
   },
   "id": "7a64f95d3bf6718",
   "execution_count": 5
  },
  {
   "cell_type": "code",
   "outputs": [],
   "source": [
    "def get_tweet(data):\n",
    "    tweets = [x['text'] for x in data]\n",
    "    labels = [x['label'] for x in data]\n",
    "    return tweets, labels"
   ],
   "metadata": {
    "collapsed": false,
    "ExecuteTime": {
     "end_time": "2024-03-21T09:31:59.196718300Z",
     "start_time": "2024-03-21T09:31:59.189096Z"
    }
   },
   "id": "5cacfed6d2787b00",
   "execution_count": 6
  },
  {
   "cell_type": "code",
   "outputs": [],
   "source": [
    "tweets, labels = get_tweet(train)"
   ],
   "metadata": {
    "collapsed": false,
    "ExecuteTime": {
     "end_time": "2024-03-21T09:32:13.770135100Z",
     "start_time": "2024-03-21T09:32:12.755840500Z"
    }
   },
   "id": "8fee935c09dd2c16",
   "execution_count": 7
  },
  {
   "cell_type": "code",
   "outputs": [
    {
     "data": {
      "text/plain": "('i didnt feel humiliated', 0)"
     },
     "execution_count": 8,
     "metadata": {},
     "output_type": "execute_result"
    }
   ],
   "source": [
    "tweets[0], labels[0]"
   ],
   "metadata": {
    "collapsed": false,
    "ExecuteTime": {
     "end_time": "2024-03-21T09:32:22.847197400Z",
     "start_time": "2024-03-21T09:32:22.827264700Z"
    }
   },
   "id": "4e0022f5825329ff",
   "execution_count": 8
  },
  {
   "cell_type": "code",
   "outputs": [],
   "source": [],
   "metadata": {
    "collapsed": false
   },
   "id": "e8fc2296200a9d00"
  },
  {
   "cell_type": "markdown",
   "source": [
    "## Tokenizer"
   ],
   "metadata": {
    "collapsed": false
   },
   "id": "bc200a2c2aa9ab35"
  },
  {
   "cell_type": "code",
   "outputs": [],
   "source": [
    "from tensorflow.keras.preprocessing.text import Tokenizer"
   ],
   "metadata": {
    "collapsed": false,
    "ExecuteTime": {
     "end_time": "2024-03-21T09:32:53.532263100Z",
     "start_time": "2024-03-21T09:32:53.489014300Z"
    }
   },
   "id": "df2e6237651ec13f",
   "execution_count": 9
  },
  {
   "cell_type": "code",
   "outputs": [],
   "source": [
    "tokenizer = Tokenizer(num_words=10000, oov_token='<UNK>')\n",
    "tokenizer.fit_on_texts(tweets)"
   ],
   "metadata": {
    "collapsed": false,
    "ExecuteTime": {
     "end_time": "2024-03-21T09:33:38.492713300Z",
     "start_time": "2024-03-21T09:33:38.293732300Z"
    }
   },
   "id": "f2a12d850f293a33",
   "execution_count": 10
  },
  {
   "cell_type": "code",
   "outputs": [],
   "source": [],
   "metadata": {
    "collapsed": false
   },
   "id": "6d0efe908d11b35"
  },
  {
   "cell_type": "markdown",
   "source": [
    "## Padding and Truncating Sequences"
   ],
   "metadata": {
    "collapsed": false
   },
   "id": "697275b301844df1"
  },
  {
   "cell_type": "code",
   "outputs": [
    {
     "data": {
      "text/plain": "<Figure size 640x480 with 1 Axes>",
      "image/png": "[encoded data removed]"
     },
     "metadata": {},
     "output_type": "display_data"
    }
   ],
   "source": [
    "lengths = [len(t.split(' ')) for t in tweets]\n",
    "plt.hist(lengths, bins=len(set(lengths)))\n",
    "plt.show()"
   ],
   "metadata": {
    "collapsed": false,
    "ExecuteTime": {
     "end_time": "2024-03-21T09:34:59.663120800Z",
     "start_time": "2024-03-21T09:34:59.485923700Z"
    }
   },
   "id": "af988cba3690373d",
   "execution_count": 11
  },
  {
   "cell_type": "code",
   "outputs": [],
   "source": [
    "maxlen = 50"
   ],
   "metadata": {
    "collapsed": false,
    "ExecuteTime": {
     "end_time": "2024-03-21T09:35:18.654181800Z",
     "start_time": "2024-03-21T09:35:18.616171500Z"
    }
   },
   "id": "3ea6d7ff844f1315",
   "execution_count": 12
  },
  {
   "cell_type": "code",
   "outputs": [],
   "source": [
    "from keras.preprocessing.sequence import pad_sequences"
   ],
   "metadata": {
    "collapsed": false,
    "ExecuteTime": {
     "end_time": "2024-03-21T09:35:33.736060700Z",
     "start_time": "2024-03-21T09:35:33.703386800Z"
    }
   },
   "id": "4fe7f42dc7a7ff36",
   "execution_count": 13
  },
  {
   "cell_type": "code",
   "outputs": [],
   "source": [
    "def get_sequence(tokenizer, tweets):\n",
    "    sequences = tokenizer.texts_to_sequences(tweets)\n",
    "    padded = pad_sequences(sequences, maxlen=maxlen, padding='post', truncating='post')\n",
    "    return padded"
   ],
   "metadata": {
    "collapsed": false,
    "ExecuteTime": {
     "end_time": "2024-03-21T09:36:37.360810300Z",
     "start_time": "2024-03-21T09:36:37.328184800Z"
    }
   },
   "id": "7e412b8a32c3436b",
   "execution_count": 14
  },
  {
   "cell_type": "code",
   "outputs": [],
   "source": [
    "padded_train = get_sequence(tokenizer, tweets)"
   ],
   "metadata": {
    "collapsed": false,
    "ExecuteTime": {
     "end_time": "2024-03-21T09:37:30.106897300Z",
     "start_time": "2024-03-21T09:37:29.951911500Z"
    }
   },
   "id": "3f35a8ddf4dd6e4a",
   "execution_count": 16
  },
  {
   "cell_type": "code",
   "outputs": [
    {
     "data": {
      "text/plain": "array([[   2,  139,    3, ...,    0,    0,    0],\n       [   2,   40,  101, ...,    0,    0,    0],\n       [  17, 3060,    7, ...,    0,    0,    0],\n       ...,\n       [   2,    3,  327, ...,    0,    0,    0],\n       [   2,    3,   14, ...,    0,    0,    0],\n       [   2,   47,    7, ...,    0,    0,    0]], dtype=int32)"
     },
     "execution_count": 17,
     "metadata": {},
     "output_type": "execute_result"
    }
   ],
   "source": [
    "padded_train\n"
   ],
   "metadata": {
    "collapsed": false,
    "ExecuteTime": {
     "end_time": "2024-03-21T09:37:34.745539100Z",
     "start_time": "2024-03-21T09:37:34.698445300Z"
    }
   },
   "id": "c27549577e5deaed",
   "execution_count": 17
  },
  {
   "cell_type": "markdown",
   "source": [
    "## Preparing the labels"
   ],
   "metadata": {
    "collapsed": false
   },
   "id": "5fcacd6ea5a6d873"
  },
  {
   "cell_type": "code",
   "outputs": [],
   "source": [
    "classes_index = set(labels)"
   ],
   "metadata": {
    "collapsed": false,
    "ExecuteTime": {
     "end_time": "2024-03-21T09:57:46.361360900Z",
     "start_time": "2024-03-21T09:57:46.355845900Z"
    }
   },
   "id": "c8b08f2fe5476724",
   "execution_count": 22
  },
  {
   "cell_type": "code",
   "outputs": [
    {
     "data": {
      "text/plain": "{0, 1, 2, 3, 4, 5}"
     },
     "execution_count": 23,
     "metadata": {},
     "output_type": "execute_result"
    }
   ],
   "source": [
    "classes_index"
   ],
   "metadata": {
    "collapsed": false,
    "ExecuteTime": {
     "end_time": "2024-03-21T09:57:46.872415600Z",
     "start_time": "2024-03-21T09:57:46.826553200Z"
    }
   },
   "id": "a37f2a21d4e21871",
   "execution_count": 23
  },
  {
   "cell_type": "code",
   "outputs": [],
   "source": [
    "classes = {'sadness', 'joy', 'love', 'anger', 'fear', 'surprise'}"
   ],
   "metadata": {
    "collapsed": false,
    "ExecuteTime": {
     "end_time": "2024-03-21T09:57:47.417442100Z",
     "start_time": "2024-03-21T09:57:47.405783Z"
    }
   },
   "id": "2cdb377a9db55abd",
   "execution_count": 24
  },
  {
   "cell_type": "code",
   "outputs": [
    {
     "data": {
      "text/plain": "<Figure size 640x480 with 1 Axes>",
      "image/png": "[encoded data removed]"
     },
     "metadata": {},
     "output_type": "display_data"
    }
   ],
   "source": [
    "plt.hist(labels, bins=11)\n",
    "plt.show()"
   ],
   "metadata": {
    "collapsed": false,
    "ExecuteTime": {
     "end_time": "2024-03-21T09:58:02.258484700Z",
     "start_time": "2024-03-21T09:58:02.065634Z"
    }
   },
   "id": "8838cf7971b376e3",
   "execution_count": 26
  },
  {
   "cell_type": "code",
   "outputs": [],
   "source": [
    "classes_to_index = {'sadness': 0, 'joy': 1, 'love': 2, 'anger': 3, 'fear': 4, 'surprise': 5}\n",
    "index_to_classes = {0: 'sadness', 1: 'joy', 2: 'love', 3: 'anger', 4: 'fear', 5: 'surprise'}"
   ],
   "metadata": {
    "collapsed": false,
    "ExecuteTime": {
     "end_time": "2024-03-21T10:01:31.388088300Z",
     "start_time": "2024-03-21T10:01:31.357843400Z"
    }
   },
   "id": "95709591d065c30e",
   "execution_count": 29
  },
  {
   "cell_type": "code",
   "outputs": [],
   "source": [
    "names_to_ids = lambda l: np.array([index_to_classes.get(x) for x in l])"
   ],
   "metadata": {
    "collapsed": false,
    "ExecuteTime": {
     "end_time": "2024-03-21T10:09:17.190371100Z",
     "start_time": "2024-03-21T10:09:17.136283700Z"
    }
   },
   "id": "e064df5bf3daac08",
   "execution_count": 38
  },
  {
   "cell_type": "code",
   "outputs": [],
   "source": [
    "train_labels = names_to_ids(labels)"
   ],
   "metadata": {
    "collapsed": false,
    "ExecuteTime": {
     "end_time": "2024-03-21T10:09:17.470652Z",
     "start_time": "2024-03-21T10:09:17.465646800Z"
    }
   },
   "id": "39556037f5dce553",
   "execution_count": 39
  },
  {
   "cell_type": "code",
   "outputs": [
    {
     "data": {
      "text/plain": "0"
     },
     "execution_count": 42,
     "metadata": {},
     "output_type": "execute_result"
    }
   ],
   "source": [
    "labels[0]"
   ],
   "metadata": {
    "collapsed": false,
    "ExecuteTime": {
     "end_time": "2024-03-21T10:10:22.829470300Z",
     "start_time": "2024-03-21T10:10:22.826469500Z"
    }
   },
   "id": "a198c54dd4f369dc",
   "execution_count": 42
  },
  {
   "cell_type": "code",
   "outputs": [],
   "source": [],
   "metadata": {
    "collapsed": false
   },
   "id": "2e5ae9fe2206d281"
  },
  {
   "cell_type": "markdown",
   "source": [
    "## creating the model"
   ],
   "metadata": {
    "collapsed": false
   },
   "id": "f8e772a33b7885e8"
  },
  {
   "cell_type": "code",
   "outputs": [],
   "source": [
    "model = tf.keras.models.Sequential([\n",
    "    tf.keras.layers.Embedding(input_dim=10000, output_dim=16, input_length=maxlen),\n",
    "    tf.keras.layers.Bidirectional(tf.keras.layers.LSTM(units=20, return_sequences=True)),\n",
    "    tf.keras.layers.Bidirectional(tf.keras.layers.LSTM(units=20)),\n",
    "    tf.keras.layers.Dense(units=6, activation='softmax')\n",
    "])\n",
    "\n",
    "model.compile(\n",
    "    optimizer='adam', \n",
    "    loss='sparse_categorical_crossentropy', \n",
    "    metrics=['accuracy']\n",
    ")"
   ],
   "metadata": {
    "collapsed": false,
    "ExecuteTime": {
     "end_time": "2024-03-21T10:21:06.000515300Z",
     "start_time": "2024-03-21T10:21:05.314549100Z"
    }
   },
   "id": "79fc048afed14bfd",
   "execution_count": 53
  },
  {
   "cell_type": "code",
   "outputs": [
    {
     "name": "stdout",
     "output_type": "stream",
     "text": [
      "Model: \"sequential_1\"\n",
      "_________________________________________________________________\n",
      " Layer (type)                Output Shape              Param #   \n",
      "=================================================================\n",
      " embedding_1 (Embedding)     (None, 50, 16)            160000    \n",
      "                                                                 \n",
      " bidirectional_2 (Bidirecti  (None, 50, 40)            5920      \n",
      " onal)                                                           \n",
      "                                                                 \n",
      " bidirectional_3 (Bidirecti  (None, 40)                9760      \n",
      " onal)                                                           \n",
      "                                                                 \n",
      " dense_1 (Dense)             (None, 6)                 246       \n",
      "                                                                 \n",
      "=================================================================\n",
      "Total params: 175926 (687.21 KB)\n",
      "Trainable params: 175926 (687.21 KB)\n",
      "Non-trainable params: 0 (0.00 Byte)\n",
      "_________________________________________________________________\n"
     ]
    }
   ],
   "source": [
    "model.summary(\n",
    ")"
   ],
   "metadata": {
    "collapsed": false,
    "ExecuteTime": {
     "end_time": "2024-03-21T10:21:07.067686800Z",
     "start_time": "2024-03-21T10:21:07.040071300Z"
    }
   },
   "id": "6dd819fe3e7caeff",
   "execution_count": 54
  },
  {
   "cell_type": "markdown",
   "source": [
    "## Training the model"
   ],
   "metadata": {
    "collapsed": false
   },
   "id": "1e9d78dc926d52bd"
  },
  {
   "cell_type": "code",
   "outputs": [],
   "source": [
    "val_tweets, val_labels = get_tweet(val)\n",
    "val_seq = get_sequence(tokenizer, val_tweets)\n",
    "#val_labels = val_labels = names_to_ids(val_labels)"
   ],
   "metadata": {
    "collapsed": false,
    "ExecuteTime": {
     "end_time": "2024-03-21T10:24:43.436099700Z",
     "start_time": "2024-03-21T10:24:43.338291400Z"
    }
   },
   "id": "ff53e9be713f6c99",
   "execution_count": 71
  },
  {
   "cell_type": "code",
   "outputs": [
    {
     "data": {
      "text/plain": "('im feeling quite sad and sorry for myself but ill snap out of it soon', int)"
     },
     "execution_count": 72,
     "metadata": {},
     "output_type": "execute_result"
    }
   ],
   "source": [
    "val_tweets[0], type(val_labels[0])\n"
   ],
   "metadata": {
    "collapsed": false,
    "ExecuteTime": {
     "end_time": "2024-03-21T10:24:43.637387200Z",
     "start_time": "2024-03-21T10:24:43.632880300Z"
    }
   },
   "id": "3df8c03c1877a657",
   "execution_count": 72
  },
  {
   "cell_type": "code",
   "outputs": [
    {
     "name": "stdout",
     "output_type": "stream",
     "text": [
      "<class 'numpy.int32'>\n",
      "<class 'numpy.int32'>\n",
      "<class 'int'>\n",
      "<class 'int'>\n"
     ]
    }
   ],
   "source": [
    "print(type(padded_train[0][0]))\n",
    "print(type(val_seq[0][0]))\n",
    "print(type(labels[0]))\n",
    "print(type(val_labels[0]))\n",
    "ds_train_x = padded_train\n",
    "ds_train_y = np.array(labels)\n",
    "ds_val_x = val_seq\n",
    "ds_val_y = np.array(val_labels)\n"
   ],
   "metadata": {
    "collapsed": false,
    "ExecuteTime": {
     "end_time": "2024-03-21T10:43:16.063890Z",
     "start_time": "2024-03-21T10:43:16.013146100Z"
    }
   },
   "id": "51d35ce86d20a97e",
   "execution_count": 100
  },
  {
   "cell_type": "code",
   "outputs": [],
   "source": [
    "ds_train = tf.data.Dataset.from_tensor_slices((padded_train, labels))\n",
    "ds_test = tf.data.Dataset.from_tensor_slices((val_seq, val_labels))"
   ],
   "metadata": {
    "collapsed": false,
    "ExecuteTime": {
     "end_time": "2024-03-21T10:37:03.728520500Z",
     "start_time": "2024-03-21T10:37:03.694470400Z"
    }
   },
   "id": "f6bee85ea32db1d3",
   "execution_count": 90
  },
  {
   "cell_type": "code",
   "outputs": [
    {
     "data": {
      "text/plain": "[0,\n 0,\n 3,\n 2,\n 3,\n 0,\n 5,\n 4,\n 1,\n 2,\n 0,\n 1,\n 3,\n 0,\n 1,\n 1,\n 0,\n 0,\n 0,\n 4,\n 3,\n 4,\n 1,\n 1,\n 3,\n 0,\n 0,\n 0,\n 3,\n 1,\n 1,\n 4,\n 5,\n 3,\n 1,\n 1,\n 1,\n 1,\n 3,\n 1,\n 1,\n 1,\n 1,\n 1,\n 0,\n 0,\n 1,\n 2,\n 1,\n 3,\n 1,\n 0,\n 3,\n 4,\n 1,\n 0,\n 0,\n 5,\n 1,\n 1,\n 1,\n 2,\n 4,\n 4,\n 5,\n 3,\n 3,\n 0,\n 2,\n 1,\n 0,\n 0,\n 1,\n 0,\n 0,\n 0,\n 1,\n 1,\n 1,\n 3,\n 0,\n 3,\n 3,\n 3,\n 1,\n 1,\n 1,\n 1,\n 0,\n 4,\n 2,\n 3,\n 0,\n 3,\n 2,\n 0,\n 1,\n 1,\n 0,\n 3,\n 2,\n 1,\n 1,\n 1,\n 0,\n 1,\n 1,\n 1,\n 1,\n 0,\n 1,\n 1,\n 2,\n 0,\n 0,\n 1,\n 1,\n 0,\n 1,\n 1,\n 4,\n 4,\n 4,\n 0,\n 2,\n 1,\n 1,\n 2,\n 4,\n 5,\n 1,\n 1,\n 1,\n 1,\n 3,\n 4,\n 1,\n 3,\n 2,\n 3,\n 0,\n 1,\n 0,\n 3,\n 1,\n 5,\n 0,\n 3,\n 3,\n 0,\n 1,\n 4,\n 1,\n 1,\n 4,\n 0,\n 5,\n 5,\n 1,\n 3,\n 4,\n 3,\n 0,\n 3,\n 0,\n 4,\n 0,\n 1,\n 5,\n 4,\n 1,\n 3,\n 1,\n 3,\n 1,\n 4,\n 4,\n 0,\n 1,\n 1,\n 0,\n 5,\n 1,\n 4,\n 1,\n 0,\n 1,\n 1,\n 1,\n 4,\n 1,\n 5,\n 1,\n 3,\n 0,\n 0,\n 1,\n 3,\n 0,\n 1,\n 1,\n 5,\n 1,\n 4,\n 1,\n 4,\n 0,\n 4,\n 2,\n 0,\n 4,\n 2,\n 0,\n 0,\n 3,\n 1,\n 2,\n 3,\n 0,\n 5,\n 3,\n 1,\n 0,\n 3,\n 1,\n 1,\n 1,\n 1,\n 1,\n 0,\n 1,\n 2,\n 1,\n 0,\n 3,\n 5,\n 1,\n 3,\n 1,\n 2,\n 0,\n 0,\n 1,\n 0,\n 0,\n 1,\n 0,\n 1,\n 1,\n 1,\n 4,\n 0,\n 3,\n 0,\n 3,\n 2,\n 1,\n 2,\n 0,\n 1,\n 1,\n 1,\n 0,\n 1,\n 0,\n 3,\n 2,\n 0,\n 2,\n 0,\n 0,\n 0,\n 0,\n 0,\n 0,\n 4,\n 1,\n 0,\n 0,\n 1,\n 2,\n 0,\n 3,\n 0,\n 2,\n 1,\n 1,\n 1,\n 0,\n 1,\n 0,\n 1,\n 1,\n 1,\n 0,\n 0,\n 0,\n 2,\n 4,\n 0,\n 4,\n 1,\n 1,\n 4,\n 1,\n 3,\n 3,\n 2,\n 0,\n 5,\n 1,\n 3,\n 0,\n 0,\n 3,\n 2,\n 5,\n 0,\n 2,\n 1,\n 3,\n 1,\n 0,\n 0,\n 1,\n 1,\n 4,\n 0,\n 3,\n 1,\n 2,\n 1,\n 1,\n 1,\n 1,\n 1,\n 2,\n 1,\n 4,\n 4,\n 1,\n 1,\n 3,\n 1,\n 1,\n 1,\n 0,\n 5,\n 1,\n 1,\n 0,\n 5,\n 1,\n 4,\n 1,\n 3,\n 2,\n 3,\n 4,\n 5,\n 1,\n 3,\n 0,\n 0,\n 0,\n 4,\n 1,\n 4,\n 1,\n 3,\n 0,\n 2,\n 3,\n 0,\n 2,\n 2,\n 1,\n 0,\n 1,\n 1,\n 3,\n 1,\n 2,\n 1,\n 1,\n 0,\n 5,\n 1,\n 1,\n 0,\n 5,\n 3,\n 1,\n 1,\n 2,\n 1,\n 2,\n 2,\n 1,\n 0,\n 1,\n 0,\n 4,\n 3,\n 0,\n 3,\n 1,\n 4,\n 5,\n 2,\n 0,\n 0,\n 1,\n 5,\n 2,\n 0,\n 0,\n 1,\n 4,\n 1,\n 1,\n 1,\n 2,\n 4,\n 0,\n 0,\n 4,\n 2,\n 1,\n 0,\n 1,\n 0,\n 1,\n 0,\n 1,\n 0,\n 1,\n 1,\n 3,\n 0,\n 4,\n 0,\n 0,\n 3,\n 5,\n 5,\n 1,\n 5,\n 4,\n 2,\n 3,\n 1,\n 4,\n 0,\n 3,\n 0,\n 1,\n 4,\n 1,\n 1,\n 1,\n 1,\n 5,\n 3,\n 0,\n 1,\n 0,\n 3,\n 2,\n 0,\n 2,\n 3,\n 2,\n 2,\n 1,\n 1,\n 0,\n 1,\n 0,\n 1,\n 3,\n 1,\n 4,\n 0,\n 1,\n 0,\n 5,\n 1,\n 1,\n 2,\n 1,\n 0,\n 3,\n 1,\n 0,\n 0,\n 0,\n 1,\n 1,\n 1,\n 0,\n 0,\n 3,\n 3,\n 1,\n 0,\n 5,\n 1,\n 1,\n 0,\n 3,\n 1,\n 3,\n 1,\n 1,\n 2,\n 3,\n 1,\n 1,\n 1,\n 1,\n 1,\n 1,\n 1,\n 4,\n 1,\n 4,\n 0,\n 3,\n 3,\n 0,\n 2,\n 0,\n 0,\n 0,\n 5,\n 4,\n 0,\n 0,\n 1,\n 4,\n 1,\n 0,\n 0,\n 3,\n 0,\n 3,\n 3,\n 2,\n 1,\n 1,\n 0,\n 1,\n 1,\n 1,\n 2,\n 2,\n 2,\n 1,\n 5,\n 4,\n 0,\n 3,\n 0,\n 4,\n 1,\n 3,\n 1,\n 1,\n 0,\n 1,\n 4,\n 1,\n 3,\n 0,\n 3,\n 1,\n 2,\n 2,\n 0,\n 4,\n 0,\n 0,\n 0,\n 4,\n 0,\n 3,\n 1,\n 1,\n 0,\n 4,\n 4,\n 3,\n 3,\n 0,\n 0,\n 3,\n 3,\n 1,\n 4,\n 0,\n 0,\n 4,\n 1,\n 4,\n 0,\n 0,\n 1,\n 0,\n 3,\n 0,\n 2,\n 5,\n 1,\n 1,\n 1,\n 1,\n 1,\n 0,\n 0,\n 2,\n 4,\n 3,\n 1,\n 2,\n 1,\n 1,\n 4,\n 3,\n 4,\n 0,\n 3,\n 3,\n 3,\n 4,\n 1,\n 2,\n 3,\n 4,\n 3,\n 1,\n 4,\n 0,\n 0,\n 3,\n 1,\n 3,\n 4,\n 4,\n 5,\n 0,\n 1,\n 1,\n 1,\n 2,\n 0,\n 1,\n 0,\n 3,\n 1,\n 1,\n 4,\n 4,\n 1,\n 4,\n 3,\n 3,\n 3,\n 1,\n 0,\n 1,\n 1,\n 1,\n 3,\n 4,\n 3,\n 1,\n 0,\n 1,\n 4,\n 1,\n 0,\n 3,\n 0,\n 0,\n 1,\n 1,\n 0,\n 2,\n 1,\n 0,\n 3,\n 2,\n 0,\n 1,\n 1,\n 4,\n 3,\n 1,\n 1,\n 2,\n 5,\n 4,\n 4,\n 3,\n 3,\n 2,\n 0,\n 0,\n 1,\n 2,\n 3,\n 1,\n 3,\n 1,\n 1,\n 1,\n 4,\n 4,\n 2,\n 0,\n 2,\n 1,\n 1,\n 0,\n 0,\n 3,\n 3,\n 3,\n 3,\n 0,\n 1,\n 0,\n 1,\n 4,\n 0,\n 1,\n 0,\n 1,\n 5,\n 4,\n 1,\n 1,\n 4,\n 4,\n 0,\n 0,\n 3,\n 0,\n 2,\n 1,\n 5,\n 1,\n 5,\n 1,\n 4,\n 1,\n 1,\n 1,\n 1,\n 5,\n 2,\n 0,\n 2,\n 1,\n 0,\n 1,\n 1,\n 0,\n 1,\n 1,\n 1,\n 1,\n 4,\n 4,\n 4,\n 4,\n 3,\n 2,\n 0,\n 1,\n 1,\n 0,\n 0,\n 0,\n 0,\n 1,\n 0,\n 0,\n 4,\n 1,\n 3,\n 1,\n 1,\n 4,\n 3,\n 1,\n 3,\n 3,\n 3,\n 3,\n 3,\n 1,\n 4,\n 0,\n 2,\n 0,\n 4,\n 2,\n 1,\n 5,\n 1,\n 1,\n 1,\n 1,\n 0,\n 5,\n 1,\n 3,\n 3,\n 3,\n 1,\n 1,\n 0,\n 2,\n 0,\n 1,\n 3,\n 3,\n 3,\n 4,\n 1,\n 1,\n 4,\n 0,\n 5,\n 1,\n 2,\n 0,\n 1,\n 1,\n 0,\n 0,\n 0,\n 3,\n 1,\n 0,\n 0,\n 0,\n 0,\n 1,\n 5,\n 1,\n 3,\n 2,\n 1,\n 3,\n 0,\n 1,\n 3,\n 0,\n 4,\n 4,\n 0,\n 0,\n 4,\n 0,\n 2,\n 4,\n 1,\n 1,\n 4,\n 1,\n 3,\n 1,\n 1,\n 3,\n 1,\n 1,\n 2,\n 3,\n 1,\n 1,\n 1,\n 3,\n 1,\n 2,\n 4,\n 3,\n 2,\n 0,\n 4,\n 0,\n 0,\n 2,\n 1,\n 4,\n 2,\n 1,\n 1,\n 0,\n 1,\n 0,\n 4,\n 1,\n 0,\n 2,\n 0,\n 2,\n 0,\n 0,\n 3,\n 2,\n 3,\n 1,\n 3,\n 0,\n 0,\n 1,\n 1,\n 3,\n 0,\n 5,\n 1,\n 2,\n 0,\n 3,\n 4,\n 2,\n 1,\n 1,\n 3,\n 1,\n 0,\n 1,\n 1,\n 1,\n 2,\n 1,\n 0,\n 2,\n 4,\n 0,\n 1,\n 0,\n 3,\n 1,\n 1,\n 0,\n 1,\n 2,\n 1,\n 1,\n 1,\n 3,\n 4,\n 0,\n 1,\n 0,\n 0,\n 2,\n 3,\n 1,\n 2,\n 0,\n 1,\n 4,\n 0,\n 1,\n 1,\n 0,\n 0,\n 2,\n 1,\n 0,\n 0,\n 0,\n 0,\n 3,\n 0,\n 1,\n 0,\n 1,\n 0,\n 2,\n 3,\n 1,\n 4,\n 0,\n 0,\n 1,\n 1,\n 3,\n 4,\n 2,\n 1,\n 0,\n 3,\n 0,\n 1,\n ...]"
     },
     "execution_count": 94,
     "metadata": {},
     "output_type": "execute_result"
    }
   ],
   "source": [
    "labels"
   ],
   "metadata": {
    "collapsed": false,
    "ExecuteTime": {
     "end_time": "2024-03-21T10:38:28.741150500Z",
     "start_time": "2024-03-21T10:38:28.704909100Z"
    }
   },
   "id": "4dac09eff67cecab",
   "execution_count": 94
  },
  {
   "cell_type": "code",
   "outputs": [
    {
     "data": {
      "text/plain": "array([[   2,  139,    3, ...,    0,    0,    0],\n       [   2,   40,  101, ...,    0,    0,    0],\n       [  17, 3060,    7, ...,    0,    0,    0],\n       ...,\n       [   2,    3,  327, ...,    0,    0,    0],\n       [   2,    3,   14, ...,    0,    0,    0],\n       [   2,   47,    7, ...,    0,    0,    0]], dtype=int32)"
     },
     "execution_count": 92,
     "metadata": {},
     "output_type": "execute_result"
    }
   ],
   "source": [
    "padded_train"
   ],
   "metadata": {
    "collapsed": false,
    "ExecuteTime": {
     "end_time": "2024-03-21T10:37:19.933320200Z",
     "start_time": "2024-03-21T10:37:19.866026600Z"
    }
   },
   "id": "ee86fc8c847cb9c8",
   "execution_count": 92
  },
  {
   "cell_type": "code",
   "outputs": [
    {
     "data": {
      "text/plain": "2000"
     },
     "execution_count": 96,
     "metadata": {},
     "output_type": "execute_result"
    }
   ],
   "source": [
    "len(val_labels)"
   ],
   "metadata": {
    "collapsed": false,
    "ExecuteTime": {
     "end_time": "2024-03-21T10:40:29.910004Z",
     "start_time": "2024-03-21T10:40:29.880837100Z"
    }
   },
   "id": "9c98a67868c93e03",
   "execution_count": 96
  },
  {
   "cell_type": "code",
   "outputs": [
    {
     "data": {
      "text/plain": "array([[ 17,   8, 157, ...,   0,   0,   0],\n       [  2,   3,  14, ...,   0,   0,   0],\n       [  2,   3,  14, ...,   0,   0,   0],\n       ...,\n       [  2,   3,  79, ...,   0,   0,   0],\n       [  2, 395,   3, ...,   0,   0,   0],\n       [  2,   3,  14, ...,   0,   0,   0]], dtype=int32)"
     },
     "execution_count": 93,
     "metadata": {},
     "output_type": "execute_result"
    }
   ],
   "source": [
    "val_seq"
   ],
   "metadata": {
    "collapsed": false,
    "ExecuteTime": {
     "end_time": "2024-03-21T10:38:12.896594600Z",
     "start_time": "2024-03-21T10:38:12.843043500Z"
    }
   },
   "id": "44fc81acbf1c5244",
   "execution_count": 93
  },
  {
   "cell_type": "code",
   "outputs": [
    {
     "name": "stdout",
     "output_type": "stream",
     "text": [
      "Epoch 1/20\n"
     ]
    },
    {
     "name": "stderr",
     "output_type": "stream",
     "text": [
      "2024-03-21 11:43:20.371381: I external/local_xla/xla/stream_executor/cuda/cuda_dnn.cc:454] Loaded cuDNN version 8904\n",
      "2024-03-21 11:43:20.544931: I external/local_xla/xla/service/service.cc:168] XLA service 0x7f35f862f700 initialized for platform CUDA (this does not guarantee that XLA will be used). Devices:\n",
      "2024-03-21 11:43:20.544977: I external/local_xla/xla/service/service.cc:176]   StreamExecutor device (0): NVIDIA GeForce RTX 3080, Compute Capability 8.6\n",
      "2024-03-21 11:43:20.567577: I tensorflow/compiler/mlir/tensorflow/utils/dump_mlir_util.cc:269] disabling MLIR crash reproducer, set env var `MLIR_CRASH_REPRODUCER_DIRECTORY` to enable.\n",
      "WARNING: All log messages before absl::InitializeLog() is called are written to STDERR\n",
      "I0000 00:00:1711017800.692052  547116 device_compiler.h:186] Compiled cluster using XLA!  This line is logged at most once for the lifetime of the process.\n"
     ]
    },
    {
     "name": "stdout",
     "output_type": "stream",
     "text": [
      "500/500 [==============================] - 23s 40ms/step - loss: 1.3398 - accuracy: 0.4755 - val_loss: 0.8908 - val_accuracy: 0.6770\n",
      "Epoch 2/20\n",
      "500/500 [==============================] - 12s 24ms/step - loss: 0.6759 - accuracy: 0.7581 - val_loss: 0.6041 - val_accuracy: 0.8105\n",
      "Epoch 3/20\n",
      "500/500 [==============================] - 11s 21ms/step - loss: 0.4205 - accuracy: 0.8637 - val_loss: 0.4847 - val_accuracy: 0.8310\n",
      "Epoch 4/20\n",
      "500/500 [==============================] - 11s 22ms/step - loss: 0.3029 - accuracy: 0.8986 - val_loss: 0.4872 - val_accuracy: 0.8370\n",
      "Epoch 5/20\n",
      "500/500 [==============================] - 11s 22ms/step - loss: 0.2332 - accuracy: 0.9258 - val_loss: 0.4454 - val_accuracy: 0.8655\n",
      "Epoch 6/20\n",
      "500/500 [==============================] - 11s 22ms/step - loss: 0.2019 - accuracy: 0.9391 - val_loss: 0.4406 - val_accuracy: 0.8660\n",
      "Epoch 7/20\n",
      "500/500 [==============================] - 12s 23ms/step - loss: 0.1379 - accuracy: 0.9578 - val_loss: 0.4484 - val_accuracy: 0.8770\n",
      "Epoch 8/20\n",
      "500/500 [==============================] - 11s 22ms/step - loss: 0.1007 - accuracy: 0.9705 - val_loss: 0.4330 - val_accuracy: 0.8860\n",
      "Epoch 9/20\n",
      "500/500 [==============================] - 11s 22ms/step - loss: 0.0831 - accuracy: 0.9747 - val_loss: 0.4465 - val_accuracy: 0.8840\n",
      "Epoch 10/20\n",
      "500/500 [==============================] - 11s 22ms/step - loss: 0.0756 - accuracy: 0.9759 - val_loss: 0.4630 - val_accuracy: 0.8840\n"
     ]
    }
   ],
   "source": [
    "h = model.fit(\n",
    "    ds_train_x, ds_train_y,\n",
    "    validation_data=(ds_val_x, ds_val_y),\n",
    "    epochs=20,\n",
    "    callbacks=[\n",
    "        tf.keras.callbacks.EarlyStopping(monitor='val_accuracy', patience=2)\n",
    "    ]\n",
    ")"
   ],
   "metadata": {
    "collapsed": false,
    "ExecuteTime": {
     "end_time": "2024-03-21T10:45:21.537969800Z",
     "start_time": "2024-03-21T10:43:18.358252500Z"
    }
   },
   "id": "40b395ef8788d1c3",
   "execution_count": 101
  },
  {
   "cell_type": "code",
   "outputs": [
    {
     "data": {
      "text/plain": "<Figure size 1600x600 with 2 Axes>",
      "image/png": "[encoded data removed]"
     },
     "metadata": {},
     "output_type": "display_data"
    }
   ],
   "source": [
    "show_history(h)"
   ],
   "metadata": {
    "collapsed": false,
    "ExecuteTime": {
     "end_time": "2024-03-21T10:45:40.817839700Z",
     "start_time": "2024-03-21T10:45:40.598384100Z"
    }
   },
   "id": "709a9bc16903b7ae",
   "execution_count": 102
  },
  {
   "cell_type": "code",
   "outputs": [],
   "source": [
    "test_tweets, test_labels = get_tweet(test)"
   ],
   "metadata": {
    "collapsed": false,
    "ExecuteTime": {
     "end_time": "2024-03-21T10:46:38.841486800Z",
     "start_time": "2024-03-21T10:46:38.742809600Z"
    }
   },
   "id": "79cc725ed3c6cf83",
   "execution_count": 106
  },
  {
   "cell_type": "code",
   "outputs": [],
   "source": [
    "test_seq = get_sequence(tokenizer, test_tweets)\n",
    "test_labels = np.array(test_labels)"
   ],
   "metadata": {
    "collapsed": false,
    "ExecuteTime": {
     "end_time": "2024-03-21T10:47:27.532199300Z",
     "start_time": "2024-03-21T10:47:27.499117500Z"
    }
   },
   "id": "d387b270604f2f19",
   "execution_count": 108
  },
  {
   "cell_type": "code",
   "outputs": [
    {
     "name": "stdout",
     "output_type": "stream",
     "text": [
      "63/63 [==============================] - 1s 14ms/step - loss: 0.4657 - accuracy: 0.8795\n"
     ]
    }
   ],
   "source": [
    "_ = model.evaluate(test_seq, test_labels)"
   ],
   "metadata": {
    "collapsed": false,
    "ExecuteTime": {
     "end_time": "2024-03-21T10:47:55.715803900Z",
     "start_time": "2024-03-21T10:47:54.788285400Z"
    }
   },
   "id": "16fea2b310d892b0",
   "execution_count": 109
  },
  {
   "cell_type": "code",
   "outputs": [],
   "source": [
    "i = random.randint(0, len(test_labels) - 1)"
   ],
   "metadata": {
    "collapsed": false,
    "ExecuteTime": {
     "end_time": "2024-03-21T10:49:18.925778900Z",
     "start_time": "2024-03-21T10:49:18.867043500Z"
    }
   },
   "id": "c06df187731e8eb4",
   "execution_count": 110
  },
  {
   "cell_type": "code",
   "outputs": [
    {
     "name": "stdout",
     "output_type": "stream",
     "text": [
      "Sentence:  i feel that it is of vital importance that those who care about me know this stuff\n",
      "Emotion:  joy\n"
     ]
    }
   ],
   "source": [
    "print('Sentence: ', test_tweets[i])\n",
    "print('Emotion: ', index_to_classes[test_labels[i]])"
   ],
   "metadata": {
    "collapsed": false,
    "ExecuteTime": {
     "end_time": "2024-03-21T10:50:17.769823300Z",
     "start_time": "2024-03-21T10:50:17.733847300Z"
    }
   },
   "id": "14314cd64ed8db7c",
   "execution_count": 111
  },
  {
   "cell_type": "code",
   "outputs": [
    {
     "name": "stdout",
     "output_type": "stream",
     "text": [
      "1/1 [==============================] - 1s 1s/step\n"
     ]
    }
   ],
   "source": [
    "p = model.predict(np.expand_dims(test_seq[i], axis=0))[0]"
   ],
   "metadata": {
    "collapsed": false,
    "ExecuteTime": {
     "end_time": "2024-03-21T10:51:12.094361400Z",
     "start_time": "2024-03-21T10:51:10.994626Z"
    }
   },
   "id": "3b719b80b069a22e",
   "execution_count": 112
  },
  {
   "cell_type": "code",
   "outputs": [],
   "source": [],
   "metadata": {
    "collapsed": false
   },
   "id": "440047e4a0e54caf"
  }
 ],
 "metadata": {
  "kernelspec": {
   "display_name": "Python 3",
   "language": "python",
   "name": "python3"
  },
  "language_info": {
   "codemirror_mode": {
    "name": "ipython",
    "version": 2
   },
   "file_extension": ".py",
   "mimetype": "text/x-python",
   "name": "python",
   "nbconvert_exporter": "python",
   "pygments_lexer": "ipython2",
   "version": "2.7.6"
  }
 },
 "nbformat": 4,
 "nbformat_minor": 5
}
